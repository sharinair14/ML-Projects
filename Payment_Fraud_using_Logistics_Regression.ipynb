{
  "nbformat": 4,
  "nbformat_minor": 0,
  "metadata": {
    "colab": {
      "name": "Payment Fraud using Logistics Regression.ipynb",
      "provenance": [],
      "authorship_tag": "ABX9TyOfrgF7SvOxQCgjyKw2ilRW",
      "include_colab_link": true
    },
    "kernelspec": {
      "name": "python3",
      "display_name": "Python 3"
    }
  },
  "cells": [
    {
      "cell_type": "markdown",
      "metadata": {
        "id": "view-in-github",
        "colab_type": "text"
      },
      "source": [
        "<a href=\"https://colab.research.google.com/github/sharinair14/ML-Projects/blob/main/Payment_Fraud_using_Logistics_Regression.ipynb\" target=\"_parent\"><img src=\"https://colab.research.google.com/assets/colab-badge.svg\" alt=\"Open In Colab\"/></a>"
      ]
    },
    {
      "cell_type": "code",
      "metadata": {
        "id": "Ncr7pHdhbyL6"
      },
      "source": [
        "import numpy as np\r\n",
        "import pandas as pd\r\n",
        "import csv\r\n",
        "import matplotlib.pyplot as plt\r\n",
        "import seaborn as sns\r\n",
        "%matplotlib inline\r\n",
        "sns.set_style('dark')"
      ],
      "execution_count": 60,
      "outputs": []
    },
    {
      "cell_type": "markdown",
      "metadata": {
        "id": "6jtdgiLifb6l"
      },
      "source": [
        "**Reading a text file in python**"
      ]
    },
    {
      "cell_type": "code",
      "metadata": {
        "id": "G25crziTempg"
      },
      "source": [
        "f=open('/content/payment_fraud.txt','r')\r\n",
        "reader=csv.reader(f)"
      ],
      "execution_count": 3,
      "outputs": []
    },
    {
      "cell_type": "code",
      "metadata": {
        "id": "N1d4jdG5fDG9"
      },
      "source": [
        "data=pd.read_csv('/content/payment_fraud.txt')"
      ],
      "execution_count": 4,
      "outputs": []
    },
    {
      "cell_type": "code",
      "metadata": {
        "colab": {
          "base_uri": "https://localhost:8080/",
          "height": 204
        },
        "id": "YSyjiJu_fMn9",
        "outputId": "de2f2bd5-6988-4c48-e484-8df01a78c8e2"
      },
      "source": [
        "data.head()"
      ],
      "execution_count": 5,
      "outputs": [
        {
          "output_type": "execute_result",
          "data": {
            "text/html": [
              "<div>\n",
              "<style scoped>\n",
              "    .dataframe tbody tr th:only-of-type {\n",
              "        vertical-align: middle;\n",
              "    }\n",
              "\n",
              "    .dataframe tbody tr th {\n",
              "        vertical-align: top;\n",
              "    }\n",
              "\n",
              "    .dataframe thead th {\n",
              "        text-align: right;\n",
              "    }\n",
              "</style>\n",
              "<table border=\"1\" class=\"dataframe\">\n",
              "  <thead>\n",
              "    <tr style=\"text-align: right;\">\n",
              "      <th></th>\n",
              "      <th>accountAgeDays</th>\n",
              "      <th>numItems</th>\n",
              "      <th>localTime</th>\n",
              "      <th>paymentMethod</th>\n",
              "      <th>paymentMethodAgeDays</th>\n",
              "      <th>label</th>\n",
              "    </tr>\n",
              "  </thead>\n",
              "  <tbody>\n",
              "    <tr>\n",
              "      <th>0</th>\n",
              "      <td>29</td>\n",
              "      <td>1</td>\n",
              "      <td>4.745402</td>\n",
              "      <td>paypal</td>\n",
              "      <td>28.204861</td>\n",
              "      <td>0</td>\n",
              "    </tr>\n",
              "    <tr>\n",
              "      <th>1</th>\n",
              "      <td>725</td>\n",
              "      <td>1</td>\n",
              "      <td>4.742303</td>\n",
              "      <td>storecredit</td>\n",
              "      <td>0.000000</td>\n",
              "      <td>0</td>\n",
              "    </tr>\n",
              "    <tr>\n",
              "      <th>2</th>\n",
              "      <td>845</td>\n",
              "      <td>1</td>\n",
              "      <td>4.921318</td>\n",
              "      <td>creditcard</td>\n",
              "      <td>0.000000</td>\n",
              "      <td>0</td>\n",
              "    </tr>\n",
              "    <tr>\n",
              "      <th>3</th>\n",
              "      <td>503</td>\n",
              "      <td>1</td>\n",
              "      <td>4.886641</td>\n",
              "      <td>creditcard</td>\n",
              "      <td>0.000000</td>\n",
              "      <td>0</td>\n",
              "    </tr>\n",
              "    <tr>\n",
              "      <th>4</th>\n",
              "      <td>2000</td>\n",
              "      <td>1</td>\n",
              "      <td>5.040929</td>\n",
              "      <td>creditcard</td>\n",
              "      <td>0.000000</td>\n",
              "      <td>0</td>\n",
              "    </tr>\n",
              "  </tbody>\n",
              "</table>\n",
              "</div>"
            ],
            "text/plain": [
              "   accountAgeDays  numItems  ...  paymentMethodAgeDays label\n",
              "0              29         1  ...             28.204861     0\n",
              "1             725         1  ...              0.000000     0\n",
              "2             845         1  ...              0.000000     0\n",
              "3             503         1  ...              0.000000     0\n",
              "4            2000         1  ...              0.000000     0\n",
              "\n",
              "[5 rows x 6 columns]"
            ]
          },
          "metadata": {
            "tags": []
          },
          "execution_count": 5
        }
      ]
    },
    {
      "cell_type": "code",
      "metadata": {
        "colab": {
          "base_uri": "https://localhost:8080/",
          "height": 204
        },
        "id": "Tmrz3ZYSfWo1",
        "outputId": "39c4fbed-bd96-4367-fd87-1fb444a3c12b"
      },
      "source": [
        "data.tail()"
      ],
      "execution_count": 6,
      "outputs": [
        {
          "output_type": "execute_result",
          "data": {
            "text/html": [
              "<div>\n",
              "<style scoped>\n",
              "    .dataframe tbody tr th:only-of-type {\n",
              "        vertical-align: middle;\n",
              "    }\n",
              "\n",
              "    .dataframe tbody tr th {\n",
              "        vertical-align: top;\n",
              "    }\n",
              "\n",
              "    .dataframe thead th {\n",
              "        text-align: right;\n",
              "    }\n",
              "</style>\n",
              "<table border=\"1\" class=\"dataframe\">\n",
              "  <thead>\n",
              "    <tr style=\"text-align: right;\">\n",
              "      <th></th>\n",
              "      <th>accountAgeDays</th>\n",
              "      <th>numItems</th>\n",
              "      <th>localTime</th>\n",
              "      <th>paymentMethod</th>\n",
              "      <th>paymentMethodAgeDays</th>\n",
              "      <th>label</th>\n",
              "    </tr>\n",
              "  </thead>\n",
              "  <tbody>\n",
              "    <tr>\n",
              "      <th>39216</th>\n",
              "      <td>986</td>\n",
              "      <td>1</td>\n",
              "      <td>4.836982</td>\n",
              "      <td>creditcard</td>\n",
              "      <td>0.000000</td>\n",
              "      <td>0</td>\n",
              "    </tr>\n",
              "    <tr>\n",
              "      <th>39217</th>\n",
              "      <td>1647</td>\n",
              "      <td>1</td>\n",
              "      <td>4.876771</td>\n",
              "      <td>creditcard</td>\n",
              "      <td>377.930556</td>\n",
              "      <td>0</td>\n",
              "    </tr>\n",
              "    <tr>\n",
              "      <th>39218</th>\n",
              "      <td>1591</td>\n",
              "      <td>1</td>\n",
              "      <td>4.742303</td>\n",
              "      <td>creditcard</td>\n",
              "      <td>0.000000</td>\n",
              "      <td>0</td>\n",
              "    </tr>\n",
              "    <tr>\n",
              "      <th>39219</th>\n",
              "      <td>237</td>\n",
              "      <td>1</td>\n",
              "      <td>4.921318</td>\n",
              "      <td>creditcard</td>\n",
              "      <td>236.082639</td>\n",
              "      <td>0</td>\n",
              "    </tr>\n",
              "    <tr>\n",
              "      <th>39220</th>\n",
              "      <td>272</td>\n",
              "      <td>1</td>\n",
              "      <td>5.040929</td>\n",
              "      <td>paypal</td>\n",
              "      <td>0.000694</td>\n",
              "      <td>0</td>\n",
              "    </tr>\n",
              "  </tbody>\n",
              "</table>\n",
              "</div>"
            ],
            "text/plain": [
              "       accountAgeDays  numItems  ...  paymentMethodAgeDays label\n",
              "39216             986         1  ...              0.000000     0\n",
              "39217            1647         1  ...            377.930556     0\n",
              "39218            1591         1  ...              0.000000     0\n",
              "39219             237         1  ...            236.082639     0\n",
              "39220             272         1  ...              0.000694     0\n",
              "\n",
              "[5 rows x 6 columns]"
            ]
          },
          "metadata": {
            "tags": []
          },
          "execution_count": 6
        }
      ]
    },
    {
      "cell_type": "code",
      "metadata": {
        "colab": {
          "base_uri": "https://localhost:8080/"
        },
        "id": "L_jMQdQYfw79",
        "outputId": "6ec224b7-773b-4d4d-db6f-3fea6102101a"
      },
      "source": [
        "data.shape"
      ],
      "execution_count": 7,
      "outputs": [
        {
          "output_type": "execute_result",
          "data": {
            "text/plain": [
              "(39221, 6)"
            ]
          },
          "metadata": {
            "tags": []
          },
          "execution_count": 7
        }
      ]
    },
    {
      "cell_type": "code",
      "metadata": {
        "colab": {
          "base_uri": "https://localhost:8080/"
        },
        "id": "UZMiDUaKhRy3",
        "outputId": "7e68d998-4476-4999-f7f4-fd2725991e62"
      },
      "source": [
        "data.isna().sum()"
      ],
      "execution_count": 17,
      "outputs": [
        {
          "output_type": "execute_result",
          "data": {
            "text/plain": [
              "accountAgeDays          0\n",
              "numItems                0\n",
              "localTime               0\n",
              "paymentMethod           0\n",
              "paymentMethodAgeDays    0\n",
              "label                   0\n",
              "dtype: int64"
            ]
          },
          "metadata": {
            "tags": []
          },
          "execution_count": 17
        }
      ]
    },
    {
      "cell_type": "code",
      "metadata": {
        "colab": {
          "base_uri": "https://localhost:8080/"
        },
        "id": "zYqNoKnZf0jq",
        "outputId": "08005898-9ec4-4f34-b98c-c5a50318d55a"
      },
      "source": [
        "data.columns"
      ],
      "execution_count": 8,
      "outputs": [
        {
          "output_type": "execute_result",
          "data": {
            "text/plain": [
              "Index(['accountAgeDays', 'numItems', 'localTime', 'paymentMethod',\n",
              "       'paymentMethodAgeDays', 'label'],\n",
              "      dtype='object')"
            ]
          },
          "metadata": {
            "tags": []
          },
          "execution_count": 8
        }
      ]
    },
    {
      "cell_type": "code",
      "metadata": {
        "colab": {
          "base_uri": "https://localhost:8080/",
          "height": 297
        },
        "id": "yQDnn92BhgSg",
        "outputId": "ede820a1-87a8-4739-ebf4-0b9d6aaf5482"
      },
      "source": [
        "data.describe()"
      ],
      "execution_count": 18,
      "outputs": [
        {
          "output_type": "execute_result",
          "data": {
            "text/html": [
              "<div>\n",
              "<style scoped>\n",
              "    .dataframe tbody tr th:only-of-type {\n",
              "        vertical-align: middle;\n",
              "    }\n",
              "\n",
              "    .dataframe tbody tr th {\n",
              "        vertical-align: top;\n",
              "    }\n",
              "\n",
              "    .dataframe thead th {\n",
              "        text-align: right;\n",
              "    }\n",
              "</style>\n",
              "<table border=\"1\" class=\"dataframe\">\n",
              "  <thead>\n",
              "    <tr style=\"text-align: right;\">\n",
              "      <th></th>\n",
              "      <th>accountAgeDays</th>\n",
              "      <th>numItems</th>\n",
              "      <th>localTime</th>\n",
              "      <th>paymentMethodAgeDays</th>\n",
              "      <th>label</th>\n",
              "    </tr>\n",
              "  </thead>\n",
              "  <tbody>\n",
              "    <tr>\n",
              "      <th>count</th>\n",
              "      <td>39221.000000</td>\n",
              "      <td>39221.000000</td>\n",
              "      <td>39221.000000</td>\n",
              "      <td>39221.000000</td>\n",
              "      <td>39221.000000</td>\n",
              "    </tr>\n",
              "    <tr>\n",
              "      <th>mean</th>\n",
              "      <td>857.563984</td>\n",
              "      <td>1.084751</td>\n",
              "      <td>4.748232</td>\n",
              "      <td>122.641326</td>\n",
              "      <td>0.014278</td>\n",
              "    </tr>\n",
              "    <tr>\n",
              "      <th>std</th>\n",
              "      <td>804.788212</td>\n",
              "      <td>0.566899</td>\n",
              "      <td>0.389360</td>\n",
              "      <td>283.569177</td>\n",
              "      <td>0.118636</td>\n",
              "    </tr>\n",
              "    <tr>\n",
              "      <th>min</th>\n",
              "      <td>1.000000</td>\n",
              "      <td>1.000000</td>\n",
              "      <td>0.421214</td>\n",
              "      <td>0.000000</td>\n",
              "      <td>0.000000</td>\n",
              "    </tr>\n",
              "    <tr>\n",
              "      <th>25%</th>\n",
              "      <td>72.000000</td>\n",
              "      <td>1.000000</td>\n",
              "      <td>4.742303</td>\n",
              "      <td>0.000000</td>\n",
              "      <td>0.000000</td>\n",
              "    </tr>\n",
              "    <tr>\n",
              "      <th>50%</th>\n",
              "      <td>603.000000</td>\n",
              "      <td>1.000000</td>\n",
              "      <td>4.886641</td>\n",
              "      <td>0.012500</td>\n",
              "      <td>0.000000</td>\n",
              "    </tr>\n",
              "    <tr>\n",
              "      <th>75%</th>\n",
              "      <td>1804.000000</td>\n",
              "      <td>1.000000</td>\n",
              "      <td>4.962055</td>\n",
              "      <td>87.510417</td>\n",
              "      <td>0.000000</td>\n",
              "    </tr>\n",
              "    <tr>\n",
              "      <th>max</th>\n",
              "      <td>2000.000000</td>\n",
              "      <td>29.000000</td>\n",
              "      <td>5.040929</td>\n",
              "      <td>1999.580556</td>\n",
              "      <td>1.000000</td>\n",
              "    </tr>\n",
              "  </tbody>\n",
              "</table>\n",
              "</div>"
            ],
            "text/plain": [
              "       accountAgeDays      numItems  ...  paymentMethodAgeDays         label\n",
              "count    39221.000000  39221.000000  ...          39221.000000  39221.000000\n",
              "mean       857.563984      1.084751  ...            122.641326      0.014278\n",
              "std        804.788212      0.566899  ...            283.569177      0.118636\n",
              "min          1.000000      1.000000  ...              0.000000      0.000000\n",
              "25%         72.000000      1.000000  ...              0.000000      0.000000\n",
              "50%        603.000000      1.000000  ...              0.012500      0.000000\n",
              "75%       1804.000000      1.000000  ...             87.510417      0.000000\n",
              "max       2000.000000     29.000000  ...           1999.580556      1.000000\n",
              "\n",
              "[8 rows x 5 columns]"
            ]
          },
          "metadata": {
            "tags": []
          },
          "execution_count": 18
        }
      ]
    },
    {
      "cell_type": "code",
      "metadata": {
        "id": "L6gFGA8WgBT8"
      },
      "source": [
        "fraud=data[data['label']==1]\r\n",
        "valid=data[data['label']==0]"
      ],
      "execution_count": 15,
      "outputs": []
    },
    {
      "cell_type": "code",
      "metadata": {
        "colab": {
          "base_uri": "https://localhost:8080/"
        },
        "id": "GAamcVyLg7Zi",
        "outputId": "fbe3ef52-7759-4a61-891f-f8fc66e3e898"
      },
      "source": [
        "fraud.shape,valid.shape"
      ],
      "execution_count": 16,
      "outputs": [
        {
          "output_type": "execute_result",
          "data": {
            "text/plain": [
              "((560, 6), (38661, 6))"
            ]
          },
          "metadata": {
            "tags": []
          },
          "execution_count": 16
        }
      ]
    },
    {
      "cell_type": "markdown",
      "metadata": {
        "id": "vTFwTKA6hBto"
      },
      "source": [
        "From the above line it is clear that dataset is imbalanced."
      ]
    },
    {
      "cell_type": "code",
      "metadata": {
        "colab": {
          "base_uri": "https://localhost:8080/",
          "height": 312
        },
        "id": "jlIbMtVMhK5_",
        "outputId": "9abc9c3e-2a7c-41ba-c506-6ff391fe9ebe"
      },
      "source": [
        "plt.title(\"Fraud (1) VS Not Fraud Payment\")\r\n",
        "sns.countplot(x='label',data=data)"
      ],
      "execution_count": 26,
      "outputs": [
        {
          "output_type": "execute_result",
          "data": {
            "text/plain": [
              "<matplotlib.axes._subplots.AxesSubplot at 0x7fbe933372b0>"
            ]
          },
          "metadata": {
            "tags": []
          },
          "execution_count": 26
        },
        {
          "output_type": "display_data",
          "data": {
            "image/png": "[encoded data removed]",
            "text/plain": [
              "<Figure size 432x288 with 1 Axes>"
            ]
          },
          "metadata": {
            "tags": []
          }
        }
      ]
    },
    {
      "cell_type": "code",
      "metadata": {
        "colab": {
          "base_uri": "https://localhost:8080/",
          "height": 312
        },
        "id": "h4zNAt-hlSHP",
        "outputId": "cec9f183-1312-4705-fa0a-2fceafa2adb3"
      },
      "source": [
        "plt.title(\"Fraud (1) VS Not Fraud Payment\")\r\n",
        "sns.countplot(x='label',hue='paymentMethod',data=data)"
      ],
      "execution_count": 27,
      "outputs": [
        {
          "output_type": "execute_result",
          "data": {
            "text/plain": [
              "<matplotlib.axes._subplots.AxesSubplot at 0x7fbe92b0c1d0>"
            ]
          },
          "metadata": {
            "tags": []
          },
          "execution_count": 27
        },
        {
          "output_type": "display_data",
          "data": {
            "image/png": "[encoded data removed]",
            "text/plain": [
              "<Figure size 432x288 with 1 Axes>"
            ]
          },
          "metadata": {
            "tags": []
          }
        }
      ]
    },
    {
      "cell_type": "code",
      "metadata": {
        "colab": {
          "base_uri": "https://localhost:8080/"
        },
        "id": "DiyhSIVslDrL",
        "outputId": "d44fe52c-a018-4d0e-82b1-e369df9f5f27"
      },
      "source": [
        "data.groupby('paymentMethod')['label'].count()"
      ],
      "execution_count": 37,
      "outputs": [
        {
          "output_type": "execute_result",
          "data": {
            "text/plain": [
              "paymentMethod\n",
              "creditcard     28004\n",
              "paypal          9303\n",
              "storecredit     1914\n",
              "Name: label, dtype: int64"
            ]
          },
          "metadata": {
            "tags": []
          },
          "execution_count": 37
        }
      ]
    },
    {
      "cell_type": "markdown",
      "metadata": {
        "id": "d66_i9kMs_-J"
      },
      "source": [
        "This shows 1.4 % of fraud transaction and 98.57% valid transaction."
      ]
    },
    {
      "cell_type": "code",
      "metadata": {
        "colab": {
          "base_uri": "https://localhost:8080/"
        },
        "id": "vZigfra6rGly",
        "outputId": "ba72f655-76e5-49f6-829a-570dad3b1850"
      },
      "source": [
        "print('Fraudulent transaction Percent is {} % and non fraudulent transaction percentage is {} %'.format((fraud.shape[0]/data.shape[0])*100,(valid.shape[0]/data.shape[0])*100))"
      ],
      "execution_count": 38,
      "outputs": [
        {
          "output_type": "stream",
          "text": [
            "Fraudulent transaction Percent is 1.427806532214885 % and non fraudulent transaction percentage is 98.57219346778511 %\n"
          ],
          "name": "stdout"
        }
      ]
    },
    {
      "cell_type": "code",
      "metadata": {
        "colab": {
          "base_uri": "https://localhost:8080/"
        },
        "id": "78Bfvb_asfCF",
        "outputId": "6421203b-1652-439d-af86-4f4a87e5ccdf"
      },
      "source": [
        "data.groupby(['paymentMethod','label'])['label'].count()"
      ],
      "execution_count": 52,
      "outputs": [
        {
          "output_type": "execute_result",
          "data": {
            "text/plain": [
              "paymentMethod  label\n",
              "creditcard     0        27594\n",
              "               1          410\n",
              "paypal         0         9174\n",
              "               1          129\n",
              "storecredit    0         1893\n",
              "               1           21\n",
              "Name: label, dtype: int64"
            ]
          },
          "metadata": {
            "tags": []
          },
          "execution_count": 52
        }
      ]
    },
    {
      "cell_type": "markdown",
      "metadata": {
        "id": "9W37RRjEx_XI"
      },
      "source": [
        "From the above data, it is clear that out of all 560 fraud transactions, 410 transaction comes from credit card,129 from paypal and 21 from storecredit. "
      ]
    },
    {
      "cell_type": "markdown",
      "metadata": {
        "id": "yHkuT7f2zRJs"
      },
      "source": [
        "Now we will convert the 'paymentMethod' column into numeric column as machine learning algorithm is unable to read categories."
      ]
    },
    {
      "cell_type": "code",
      "metadata": {
        "id": "3EZK08XeyYmN"
      },
      "source": [
        "data['paymentMethod']=data['paymentMethod'].map({'creditcard':0,'paypal':1,'storecredit':2})"
      ],
      "execution_count": 54,
      "outputs": []
    },
    {
      "cell_type": "code",
      "metadata": {
        "id": "X52VQB8f4_lp"
      },
      "source": [
        "x=data.drop('label',axis=1)\r\n",
        "y=data['label']\r\n"
      ],
      "execution_count": 62,
      "outputs": []
    },
    {
      "cell_type": "markdown",
      "metadata": {
        "id": "1_N-cMWsF5ax"
      },
      "source": [
        "**Splitting the dataset into train & test**"
      ]
    },
    {
      "cell_type": "code",
      "metadata": {
        "id": "dMo_vuFi_suh"
      },
      "source": [
        "from sklearn.model_selection import train_test_split\r\n",
        "x_train,x_test,y_train,y_test=train_test_split(x,y,test_size=0.2,random_state=101)"
      ],
      "execution_count": 64,
      "outputs": []
    },
    {
      "cell_type": "code",
      "metadata": {
        "colab": {
          "base_uri": "https://localhost:8080/"
        },
        "id": "n5WRDcLdAbV9",
        "outputId": "437d503f-7f9f-4375-ac50-b6f0f13a6c09"
      },
      "source": [
        "x_train.shape,x_test.shape"
      ],
      "execution_count": 65,
      "outputs": [
        {
          "output_type": "execute_result",
          "data": {
            "text/plain": [
              "((31376, 5), (7845, 5))"
            ]
          },
          "metadata": {
            "tags": []
          },
          "execution_count": 65
        }
      ]
    },
    {
      "cell_type": "markdown",
      "metadata": {
        "id": "ITZcC97YAtHC"
      },
      "source": [
        "This dataset contains no missing values and is structured.so I am using logistics regression algorithm to build the model."
      ]
    },
    {
      "cell_type": "code",
      "metadata": {
        "id": "WE8aQEZMAkRZ"
      },
      "source": [
        "from sklearn.linear_model import LogisticRegression"
      ],
      "execution_count": 66,
      "outputs": []
    },
    {
      "cell_type": "code",
      "metadata": {
        "id": "w6xMEegYBGU2"
      },
      "source": [
        "lr=LogisticRegression()\r\n",
        "lr.fit(x_train,y_train)\r\n",
        "ypred=lr.predict(x_test)"
      ],
      "execution_count": 81,
      "outputs": []
    },
    {
      "cell_type": "markdown",
      "metadata": {
        "id": "LQzx8U58GDR6"
      },
      "source": [
        "**Evaluating the model**"
      ]
    },
    {
      "cell_type": "code",
      "metadata": {
        "id": "EC3WkLmeBudt"
      },
      "source": [
        "from sklearn.metrics import confusion_matrix,recall_score,precision_score,classification_report,accuracy_score,f1_score"
      ],
      "execution_count": 87,
      "outputs": []
    },
    {
      "cell_type": "code",
      "metadata": {
        "colab": {
          "base_uri": "https://localhost:8080/"
        },
        "id": "_ZT8Igh8D1fS",
        "outputId": "e6880278-8712-433d-882d-b404856773c7"
      },
      "source": [
        "print('Accuracy score',accuracy_score(y_test,ypred))\r\n",
        "print('Precision score',precision_score(y_test,ypred))\r\n",
        "print('Recall score',recall_score(y_test,ypred))\r\n",
        "print('F1 score',f1_score(y_test,ypred))\r\n",
        "print('Classification score',classification_report(y_test,ypred))\r\n",
        "print('Confusion Matrix',confusion_matrix(y_test,ypred))"
      ],
      "execution_count": 89,
      "outputs": [
        {
          "output_type": "stream",
          "text": [
            "Accuracy score 1.0\n",
            "Precision score 1.0\n",
            "Recall score 1.0\n",
            "F1 score 1.0\n",
            "Classification score               precision    recall  f1-score   support\n",
            "\n",
            "           0       1.00      1.00      1.00      7719\n",
            "           1       1.00      1.00      1.00       126\n",
            "\n",
            "    accuracy                           1.00      7845\n",
            "   macro avg       1.00      1.00      1.00      7845\n",
            "weighted avg       1.00      1.00      1.00      7845\n",
            "\n",
            "Confusion Matrix [[7719    0]\n",
            " [   0  126]]\n"
          ],
          "name": "stdout"
        }
      ]
    },
    {
      "cell_type": "markdown",
      "metadata": {
        "id": "zdG18-pEExfP"
      },
      "source": [
        "In above confusion matrix, there is no FP and FN cases. All cases are correctly classified as fraud and valid.Furthermore,the accuracy is also 100%."
      ]
    },
    {
      "cell_type": "code",
      "metadata": {
        "id": "HMn9iGudFoTy"
      },
      "source": [
        ""
      ],
      "execution_count": null,
      "outputs": []
    }
  ]
}